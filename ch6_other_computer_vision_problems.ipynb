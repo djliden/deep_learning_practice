{
  "nbformat": 4,
  "nbformat_minor": 0,
  "metadata": {
    "colab": {
      "name": "ch6_other_computer_vision_problems.ipynb",
      "provenance": [],
      "collapsed_sections": [],
      "authorship_tag": "ABX9TyOi4xinrnoaR4YKdGiN6LxI",
      "include_colab_link": true
    },
    "kernelspec": {
      "name": "python3",
      "display_name": "Python 3"
    }
  },
  "cells": [
    {
      "cell_type": "markdown",
      "metadata": {
        "id": "view-in-github",
        "colab_type": "text"
      },
      "source": [
        "<a href=\"https://colab.research.google.com/github/djliden/deep_learning_practice/blob/main/ch6_other_computer_vision_problems.ipynb\" target=\"_parent\"><img src=\"https://colab.research.google.com/assets/colab-badge.svg\" alt=\"Open In Colab\"/></a>"
      ]
    },
    {
      "cell_type": "markdown",
      "metadata": {
        "id": "BbVOxpPpd5iM"
      },
      "source": [
        "# Introduction\n",
        "This chapter covers multi-label classification and regression. The former is for when there are multiple labels per image; the latter for when the labels are numbers.\n",
        "\n",
        "## Multi-label classification\n",
        "Using the PASCAL dataset, which can have more than one kind of classified object per image."
      ]
    },
    {
      "cell_type": "code",
      "metadata": {
        "id": "bOwGBfGjejHA"
      },
      "source": [
        ""
      ],
      "execution_count": null,
      "outputs": []
    }
  ]
}