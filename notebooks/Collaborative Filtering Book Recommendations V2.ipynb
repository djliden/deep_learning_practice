{
  "nbformat": 4,
  "nbformat_minor": 0,
  "metadata": {
    "accelerator": "GPU",
    "colab": {
      "name": "Collaborative Filtering Book Recommendations.ipynb",
      "provenance": [],
      "include_colab_link": true
    },
    "kernelspec": {
      "name": "python3",
      "display_name": "Python 3"
    }
  },
  "cells": [
    {
      "cell_type": "markdown",
      "metadata": {
        "id": "view-in-github",
        "colab_type": "text"
      },
      "source": [
        "<a href=\"https://colab.research.google.com/github/djliden/deep_learning_practice/blob/main/notebooks/Collaborative%20Filtering%20Book%20Recommendations%20V2.ipynb\" target=\"_parent\"><img src=\"https://colab.research.google.com/assets/colab-badge.svg\" alt=\"Open In Colab\"/></a>"
      ]
    },
    {
      "cell_type": "markdown",
      "metadata": {
        "id": "ViWrLPiuY--T"
      },
      "source": [
        "# Background\n",
        "This is the second version of this notebook. In the first passthrough, I noticed that the rating scale ranged from 0 to 11, but did not think 0 had any special meaning. However, unpon exploring the book crossing website further, I found that 0 constituted an \"implicit rating\" where a user bought and/or read the book but did not actually leave a rating. In this version of the notebook, I will be excluding observations with a rating of 0."
      ]
    },
    {
      "cell_type": "markdown",
      "metadata": {
        "id": "WMEHoLGXMsBm"
      },
      "source": [
        "# Book Recommendation Dataset\n",
        "In this notebook, I attempt to reproduce the recommendation engine from chapter 8 using the [Book-Crossing Dataset](http://www2.informatik.uni-freiburg.de/~cziegler/BX/).\n",
        "\n",
        "Source: *Improving Recommendation Lists Through Topic Diversification*,\n",
        "Cai-Nicolas Ziegler, Sean M. McNee, Joseph A. Konstan, Georg Lausen; Proceedings of the 14th International World Wide Web Conference (WWW '05), May 10-14, 2005, Chiba, Japan. To appear.\n",
        "\n"
      ]
    },
    {
      "cell_type": "code",
      "metadata": {
        "id": "TH6KRe8qMuwV"
      },
      "source": [
        "%%capture\n",
        "!pip install --upgrade fastai"
      ],
      "execution_count": 1,
      "outputs": []
    },
    {
      "cell_type": "markdown",
      "metadata": {
        "id": "2zXfIQt-JS-t"
      },
      "source": [
        "Note the use of the `%%capture` tag -- this prevents the cell from printing the output, which is long and not particularly useful when simply reinstalling/upgrading fastai at the beginning of a colab session.\n",
        "\n",
        "## Downloading and Exploring the Data\n",
        "We will be following the same general process as in chapter 8 using the \"Book-Crossing\" dataset. Book-Crossing is a website for \"releasing your books 'into the wild' for a stranger to find.\" I didn't actually see book ratings on their website, so I don't have any additional details on the rating system used."
      ]
    },
    {
      "cell_type": "code",
      "metadata": {
        "id": "W3_TDxkIMsBp",
        "outputId": "9ceed692-94dd-41b6-ce8e-4de722e074a9",
        "colab": {
          "base_uri": "https://localhost:8080/",
          "height": 17
        }
      },
      "source": [
        "# Data Source http://www2.informatik.uni-freiburg.de/~cziegler/BX/BX-CSV-Dump.zip\n",
        "from fastai.collab import *\n",
        "from fastai.tabular.all import *\n",
        "import pandas as pd\n",
        "\n",
        "path = untar_data(\"http://www2.informatik.uni-freiburg.de/~cziegler/BX/BX-CSV-Dump.zip\")"
      ],
      "execution_count": 2,
      "outputs": [
        {
          "output_type": "display_data",
          "data": {
            "text/html": [
              ""
            ],
            "text/plain": [
              "<IPython.core.display.HTML object>"
            ]
          },
          "metadata": {
            "tags": []
          }
        }
      ]
    },
    {
      "cell_type": "markdown",
      "metadata": {
        "id": "GxvCJ9pAKYZK"
      },
      "source": [
        "Note that, in this case, our unzipped data do *not* end up in their own separate directory but are unzipped directly into `~/.fastai/data` (the default location for `untar_data`. So to access the unzipped files, we need to look in `path.parent` as the default `untar_data` options (apparently) assume that a new directory is created. "
      ]
    },
    {
      "cell_type": "code",
      "metadata": {
        "id": "xqN2jpiTMsB7"
      },
      "source": [
        "bookratings = pd.read_csv(path.parent / 'BX-Book-Ratings.csv', sep=';', encoding = \"ISO-8859-1\")\n",
        "booknames = pd.read_csv(path.parent / 'BX-Books.csv', sep=';', encoding = \"ISO-8859-1\",\n",
        "                       quotechar='\"', escapechar='\\\\', usecols=(0,1,2))"
      ],
      "execution_count": 3,
      "outputs": []
    },
    {
      "cell_type": "markdown",
      "metadata": {
        "id": "ExoT3-yXK4Ai"
      },
      "source": [
        "Parsing the data took some work as several of the fields have quotes or semicolons. Semicolons are the separator for these `csv`s and quotes mark text fields, so we need to make sure that these characters are handled appropriately when they appear within fields. I also needed to specify the encoding, though I can't say with any certainty why that particular encoding worked. It was in a stackexchange answer."
      ]
    },
    {
      "cell_type": "code",
      "metadata": {
        "id": "nsDSpBiLMsCL",
        "outputId": "74a7b168-bb19-4366-ac00-87fc57764be6",
        "colab": {
          "base_uri": "https://localhost:8080/",
          "height": 124
        }
      },
      "source": [
        "bookratings.head(), bookratings.shape"
      ],
      "execution_count": 4,
      "outputs": [
        {
          "output_type": "execute_result",
          "data": {
            "text/plain": [
              "(   User-ID        ISBN  Book-Rating\n",
              " 0   276725  034545104X            0\n",
              " 1   276726  0155061224            5\n",
              " 2   276727  0446520802            0\n",
              " 3   276729  052165615X            3\n",
              " 4   276729  0521795028            6, (1149780, 3))"
            ]
          },
          "metadata": {
            "tags": []
          },
          "execution_count": 4
        }
      ]
    },
    {
      "cell_type": "markdown",
      "metadata": {
        "id": "DXY2BT0uLmsl"
      },
      "source": [
        "This is quite a bit bigger than the MovieLens subset we worked through in chapter 8, with 1.15 million ratings."
      ]
    },
    {
      "cell_type": "code",
      "metadata": {
        "id": "pynGaIOmLw_w",
        "outputId": "835db3bd-ead8-484a-c344-c8fdb887a7be",
        "colab": {
          "base_uri": "https://localhost:8080/",
          "height": 88
        }
      },
      "source": [
        "bookratings.nunique()"
      ],
      "execution_count": 5,
      "outputs": [
        {
          "output_type": "execute_result",
          "data": {
            "text/plain": [
              "User-ID        105283\n",
              "ISBN           340556\n",
              "Book-Rating        11\n",
              "dtype: int64"
            ]
          },
          "metadata": {
            "tags": []
          },
          "execution_count": 5
        }
      ]
    },
    {
      "cell_type": "markdown",
      "metadata": {
        "id": "jDnbEaZGL63e"
      },
      "source": [
        "So we have more than 100,000 unique users and more than 340,000 unique books. We also have 11 ratings, on a 0 through 10 scale."
      ]
    },
    {
      "cell_type": "code",
      "metadata": {
        "id": "UE5uLPnVM24O",
        "outputId": "043ee7b4-ec57-46a1-91f5-67fea09c5897",
        "colab": {
          "base_uri": "https://localhost:8080/",
          "height": 35
        }
      },
      "source": [
        "np.sort(bookratings['Book-Rating'].unique())"
      ],
      "execution_count": 6,
      "outputs": [
        {
          "output_type": "execute_result",
          "data": {
            "text/plain": [
              "array([ 0,  1,  2,  3,  4,  5,  6,  7,  8,  9, 10])"
            ]
          },
          "metadata": {
            "tags": []
          },
          "execution_count": 6
        }
      ]
    },
    {
      "cell_type": "code",
      "metadata": {
        "id": "HRpfzyViY-_f",
        "outputId": "1d229a46-87c3-4115-ebbe-87e5bd947e32",
        "colab": {
          "base_uri": "https://localhost:8080/",
          "height": 35
        }
      },
      "source": [
        "sum(bookratings['Book-Rating']==0)"
      ],
      "execution_count": 7,
      "outputs": [
        {
          "output_type": "execute_result",
          "data": {
            "text/plain": [
              "716109"
            ]
          },
          "metadata": {
            "tags": []
          },
          "execution_count": 7
        }
      ]
    },
    {
      "cell_type": "markdown",
      "metadata": {
        "id": "vhRtG5CnY-_m"
      },
      "source": [
        "That's huge -- well over half of the ratings are 0 (\"implicit\" ratings). Let's drop them and see what happens."
      ]
    },
    {
      "cell_type": "code",
      "metadata": {
        "id": "nxFF0CGeY-_n"
      },
      "source": [
        "bookratings = bookratings[bookratings['Book-Rating']!=0]"
      ],
      "execution_count": 8,
      "outputs": []
    },
    {
      "cell_type": "code",
      "metadata": {
        "id": "rh_eqy8WY-_u",
        "outputId": "3500c78a-b0b1-42e7-92ec-cf59dcc38271",
        "colab": {
          "base_uri": "https://localhost:8080/",
          "height": 35
        }
      },
      "source": [
        "np.sort(bookratings['Book-Rating'].unique()), bookratings.shape"
      ],
      "execution_count": 9,
      "outputs": [
        {
          "output_type": "execute_result",
          "data": {
            "text/plain": [
              "(array([ 1,  2,  3,  4,  5,  6,  7,  8,  9, 10]), (433671, 3))"
            ]
          },
          "metadata": {
            "tags": []
          },
          "execution_count": 9
        }
      ]
    },
    {
      "cell_type": "markdown",
      "metadata": {
        "id": "RtvXakUEY-_1"
      },
      "source": [
        "So now we're down to about 430,000 ratings."
      ]
    },
    {
      "cell_type": "markdown",
      "metadata": {
        "id": "ebhZ9K25NhyB"
      },
      "source": [
        "### Getting Book Titles\n",
        "We also want a way to figure out the titles of books. These were stored in a separate csv file, which we extracted above. Let's take a look."
      ]
    },
    {
      "cell_type": "code",
      "metadata": {
        "id": "4lyTkJRyMsCb",
        "scrolled": false,
        "outputId": "08c4fdfc-df12-4176-ea89-2ec0e7e36125",
        "colab": {
          "base_uri": "https://localhost:8080/",
          "height": 206
        }
      },
      "source": [
        "booknames['title-author'] = booknames['Book-Title'] + ' (' + booknames['Book-Author'] + ')'\n",
        "booknames = booknames.drop(['Book-Title', 'Book-Author'],1)\n",
        "booknames.head()"
      ],
      "execution_count": 10,
      "outputs": [
        {
          "output_type": "execute_result",
          "data": {
            "text/html": [
              "<div>\n",
              "<style scoped>\n",
              "    .dataframe tbody tr th:only-of-type {\n",
              "        vertical-align: middle;\n",
              "    }\n",
              "\n",
              "    .dataframe tbody tr th {\n",
              "        vertical-align: top;\n",
              "    }\n",
              "\n",
              "    .dataframe thead th {\n",
              "        text-align: right;\n",
              "    }\n",
              "</style>\n",
              "<table border=\"1\" class=\"dataframe\">\n",
              "  <thead>\n",
              "    <tr style=\"text-align: right;\">\n",
              "      <th></th>\n",
              "      <th>ISBN</th>\n",
              "      <th>title-author</th>\n",
              "    </tr>\n",
              "  </thead>\n",
              "  <tbody>\n",
              "    <tr>\n",
              "      <th>0</th>\n",
              "      <td>0195153448</td>\n",
              "      <td>Classical Mythology (Mark P. O. Morford)</td>\n",
              "    </tr>\n",
              "    <tr>\n",
              "      <th>1</th>\n",
              "      <td>0002005018</td>\n",
              "      <td>Clara Callan (Richard Bruce Wright)</td>\n",
              "    </tr>\n",
              "    <tr>\n",
              "      <th>2</th>\n",
              "      <td>0060973129</td>\n",
              "      <td>Decision in Normandy (Carlo D'Este)</td>\n",
              "    </tr>\n",
              "    <tr>\n",
              "      <th>3</th>\n",
              "      <td>0374157065</td>\n",
              "      <td>Flu: The Story of the Great Influenza Pandemic of 1918 and the Search for the Virus That Caused It (Gina Bari Kolata)</td>\n",
              "    </tr>\n",
              "    <tr>\n",
              "      <th>4</th>\n",
              "      <td>0393045218</td>\n",
              "      <td>The Mummies of Urumchi (E. J. W. Barber)</td>\n",
              "    </tr>\n",
              "  </tbody>\n",
              "</table>\n",
              "</div>"
            ],
            "text/plain": [
              "         ISBN                                                                                                           title-author\n",
              "0  0195153448                                                                               Classical Mythology (Mark P. O. Morford)\n",
              "1  0002005018                                                                                    Clara Callan (Richard Bruce Wright)\n",
              "2  0060973129                                                                                    Decision in Normandy (Carlo D'Este)\n",
              "3  0374157065  Flu: The Story of the Great Influenza Pandemic of 1918 and the Search for the Virus That Caused It (Gina Bari Kolata)\n",
              "4  0393045218                                                                               The Mummies of Urumchi (E. J. W. Barber)"
            ]
          },
          "metadata": {
            "tags": []
          },
          "execution_count": 10
        }
      ]
    },
    {
      "cell_type": "markdown",
      "metadata": {
        "id": "FmdtLNXQN9mm"
      },
      "source": [
        "And now we'll merge this into our book ratings dataframe."
      ]
    },
    {
      "cell_type": "code",
      "metadata": {
        "id": "xetKr-cdMsCn",
        "outputId": "b19e4912-d7b5-414a-e50c-02a83b5ced5a",
        "colab": {
          "base_uri": "https://localhost:8080/",
          "height": 206
        }
      },
      "source": [
        "books = bookratings.merge(booknames, on='ISBN')\n",
        "books.head()"
      ],
      "execution_count": 11,
      "outputs": [
        {
          "output_type": "execute_result",
          "data": {
            "text/html": [
              "<div>\n",
              "<style scoped>\n",
              "    .dataframe tbody tr th:only-of-type {\n",
              "        vertical-align: middle;\n",
              "    }\n",
              "\n",
              "    .dataframe tbody tr th {\n",
              "        vertical-align: top;\n",
              "    }\n",
              "\n",
              "    .dataframe thead th {\n",
              "        text-align: right;\n",
              "    }\n",
              "</style>\n",
              "<table border=\"1\" class=\"dataframe\">\n",
              "  <thead>\n",
              "    <tr style=\"text-align: right;\">\n",
              "      <th></th>\n",
              "      <th>User-ID</th>\n",
              "      <th>ISBN</th>\n",
              "      <th>Book-Rating</th>\n",
              "      <th>title-author</th>\n",
              "    </tr>\n",
              "  </thead>\n",
              "  <tbody>\n",
              "    <tr>\n",
              "      <th>0</th>\n",
              "      <td>276726</td>\n",
              "      <td>0155061224</td>\n",
              "      <td>5</td>\n",
              "      <td>Rites of Passage (Judith Rae)</td>\n",
              "    </tr>\n",
              "    <tr>\n",
              "      <th>1</th>\n",
              "      <td>276729</td>\n",
              "      <td>052165615X</td>\n",
              "      <td>3</td>\n",
              "      <td>Help!: Level 1 (Philip Prowse)</td>\n",
              "    </tr>\n",
              "    <tr>\n",
              "      <th>2</th>\n",
              "      <td>276729</td>\n",
              "      <td>0521795028</td>\n",
              "      <td>6</td>\n",
              "      <td>The Amsterdam Connection : Level 4 (Cambridge English Readers) (Sue Leather)</td>\n",
              "    </tr>\n",
              "    <tr>\n",
              "      <th>3</th>\n",
              "      <td>276744</td>\n",
              "      <td>038550120X</td>\n",
              "      <td>7</td>\n",
              "      <td>A Painted House (JOHN GRISHAM)</td>\n",
              "    </tr>\n",
              "    <tr>\n",
              "      <th>4</th>\n",
              "      <td>11676</td>\n",
              "      <td>038550120X</td>\n",
              "      <td>10</td>\n",
              "      <td>A Painted House (JOHN GRISHAM)</td>\n",
              "    </tr>\n",
              "  </tbody>\n",
              "</table>\n",
              "</div>"
            ],
            "text/plain": [
              "   User-ID  ...                                                                  title-author\n",
              "0   276726  ...                                                 Rites of Passage (Judith Rae)\n",
              "1   276729  ...                                                Help!: Level 1 (Philip Prowse)\n",
              "2   276729  ...  The Amsterdam Connection : Level 4 (Cambridge English Readers) (Sue Leather)\n",
              "3   276744  ...                                                A Painted House (JOHN GRISHAM)\n",
              "4    11676  ...                                                A Painted House (JOHN GRISHAM)\n",
              "\n",
              "[5 rows x 4 columns]"
            ]
          },
          "metadata": {
            "tags": []
          },
          "execution_count": 11
        }
      ]
    },
    {
      "cell_type": "code",
      "metadata": {
        "id": "BlbBK4VMY_AH",
        "outputId": "54aba76e-d439-414c-fe0c-5216c7fbbdb8",
        "colab": {
          "base_uri": "https://localhost:8080/",
          "height": 35
        }
      },
      "source": [
        "books.shape"
      ],
      "execution_count": 12,
      "outputs": [
        {
          "output_type": "execute_result",
          "data": {
            "text/plain": [
              "(383852, 4)"
            ]
          },
          "metadata": {
            "tags": []
          },
          "execution_count": 12
        }
      ]
    },
    {
      "cell_type": "markdown",
      "metadata": {
        "id": "q63Omu30MsDD"
      },
      "source": [
        "We seem to have lost quite a few observations during the merging. I wonder if some of the ISBNs are not valid. Problem for another time, though -- we still have plenty of data to use for training the models. Now we have our dataframe of users, ratings, and titles. Let's proceed with our collaborative learner.\n",
        "\n",
        "### Prepare the DataLoaders"
      ]
    },
    {
      "cell_type": "code",
      "metadata": {
        "id": "k7ZEYGWlMsDE",
        "outputId": "0a8b6873-97d1-4dab-b34f-fe44b7a3ea88",
        "colab": {
          "base_uri": "https://localhost:8080/",
          "height": 363
        }
      },
      "source": [
        "dls = CollabDataLoaders.from_df(books,\n",
        "                                user_name='User-ID',\n",
        "                                rating_name='Book-Rating',\n",
        "                                item_name='title-author', bs=64,\n",
        "                                seed=46)\n",
        "dls.show_batch()"
      ],
      "execution_count": 13,
      "outputs": [
        {
          "output_type": "display_data",
          "data": {
            "text/html": [
              "<table border=\"1\" class=\"dataframe\">\n",
              "  <thead>\n",
              "    <tr style=\"text-align: right;\">\n",
              "      <th></th>\n",
              "      <th>User-ID</th>\n",
              "      <th>title-author</th>\n",
              "      <th>Book-Rating</th>\n",
              "    </tr>\n",
              "  </thead>\n",
              "  <tbody>\n",
              "    <tr>\n",
              "      <th>0</th>\n",
              "      <td>144194</td>\n",
              "      <td>Anne of the Island (Lucy Maud Montgomery)</td>\n",
              "      <td>6</td>\n",
              "    </tr>\n",
              "    <tr>\n",
              "      <th>1</th>\n",
              "      <td>207417</td>\n",
              "      <td>Goodbye, Columbus : And Five Short Stories (Vintage International) (Philip Roth)</td>\n",
              "      <td>7</td>\n",
              "    </tr>\n",
              "    <tr>\n",
              "      <th>2</th>\n",
              "      <td>242006</td>\n",
              "      <td>One Red Rose (Clayborne Brides) (Julie Garwood)</td>\n",
              "      <td>10</td>\n",
              "    </tr>\n",
              "    <tr>\n",
              "      <th>3</th>\n",
              "      <td>36836</td>\n",
              "      <td>The Mummy or Ramses the Damned (Anne Rice)</td>\n",
              "      <td>8</td>\n",
              "    </tr>\n",
              "    <tr>\n",
              "      <th>4</th>\n",
              "      <td>37712</td>\n",
              "      <td>The Saving Graces: A Novel (Patricia Gaffney)</td>\n",
              "      <td>10</td>\n",
              "    </tr>\n",
              "    <tr>\n",
              "      <th>5</th>\n",
              "      <td>33826</td>\n",
              "      <td>ESPERANZA'S BOX OF SAINTS: A Novel (Maria Amparo Escandon)</td>\n",
              "      <td>10</td>\n",
              "    </tr>\n",
              "    <tr>\n",
              "      <th>6</th>\n",
              "      <td>130966</td>\n",
              "      <td>Angus, Thongs and Full-Frontal Snogging: Confessions of Georgia Nicolson (Louise Rennison)</td>\n",
              "      <td>2</td>\n",
              "    </tr>\n",
              "    <tr>\n",
              "      <th>7</th>\n",
              "      <td>196502</td>\n",
              "      <td>The Dollmaker (Harriette Arnow)</td>\n",
              "      <td>8</td>\n",
              "    </tr>\n",
              "    <tr>\n",
              "      <th>8</th>\n",
              "      <td>62272</td>\n",
              "      <td>When the Wind Blows (James Patterson)</td>\n",
              "      <td>8</td>\n",
              "    </tr>\n",
              "    <tr>\n",
              "      <th>9</th>\n",
              "      <td>151602</td>\n",
              "      <td>Once a Mistress (Rebecca Hagan Lee)</td>\n",
              "      <td>3</td>\n",
              "    </tr>\n",
              "  </tbody>\n",
              "</table>"
            ],
            "text/plain": [
              "<IPython.core.display.HTML object>"
            ]
          },
          "metadata": {
            "tags": []
          }
        }
      ]
    },
    {
      "cell_type": "markdown",
      "metadata": {
        "id": "8wTXC_BdQJeK"
      },
      "source": [
        "## Fit the First Model"
      ]
    },
    {
      "cell_type": "code",
      "metadata": {
        "id": "pEGcn0WWMsDf",
        "outputId": "49f66110-fb62-4468-b51b-afee61a68cfe",
        "colab": {
          "base_uri": "https://localhost:8080/",
          "height": 206
        }
      },
      "source": [
        "learn = collab_learner(dls, n_factors=50, y_range=(1,10.5))\n",
        "#learn.lr_find()\n",
        "learn.fit_one_cycle(5,.1,wd=0.1)"
      ],
      "execution_count": 35,
      "outputs": [
        {
          "output_type": "display_data",
          "data": {
            "text/html": [
              "<table border=\"1\" class=\"dataframe\">\n",
              "  <thead>\n",
              "    <tr style=\"text-align: left;\">\n",
              "      <th>epoch</th>\n",
              "      <th>train_loss</th>\n",
              "      <th>valid_loss</th>\n",
              "      <th>time</th>\n",
              "    </tr>\n",
              "  </thead>\n",
              "  <tbody>\n",
              "    <tr>\n",
              "      <td>0</td>\n",
              "      <td>4.885708</td>\n",
              "      <td>4.910225</td>\n",
              "      <td>00:49</td>\n",
              "    </tr>\n",
              "    <tr>\n",
              "      <td>1</td>\n",
              "      <td>4.851559</td>\n",
              "      <td>4.836450</td>\n",
              "      <td>00:49</td>\n",
              "    </tr>\n",
              "    <tr>\n",
              "      <td>2</td>\n",
              "      <td>4.505070</td>\n",
              "      <td>4.597971</td>\n",
              "      <td>00:49</td>\n",
              "    </tr>\n",
              "    <tr>\n",
              "      <td>3</td>\n",
              "      <td>4.103726</td>\n",
              "      <td>4.091122</td>\n",
              "      <td>00:49</td>\n",
              "    </tr>\n",
              "    <tr>\n",
              "      <td>4</td>\n",
              "      <td>3.887827</td>\n",
              "      <td>3.923315</td>\n",
              "      <td>00:49</td>\n",
              "    </tr>\n",
              "  </tbody>\n",
              "</table>"
            ],
            "text/plain": [
              "<IPython.core.display.HTML object>"
            ]
          },
          "metadata": {
            "tags": []
          }
        }
      ]
    },
    {
      "cell_type": "markdown",
      "metadata": {
        "id": "sNsRrzJdMsDm"
      },
      "source": [
        "This is a dramatic improvement over the prior model, which included the 0 ratings. Losses in that model were > 10, compared to a loss of 3.9 here. Next we'll see if we can improve upon this further using a neural network.\n",
        "\n",
        "### QUESTIONS\n",
        "- How does it know which is the user and which is the item? **Answer:** *Assumes user name is first column, item name is second, and rating is third. Though in this case I just made it explicit.*\n",
        "- Why does this one take so much longer than the movies dataset? *Number of observations is much larger*\n",
        "- It doesn't seem to matter that the User-ID isn't any kind of index. Would we need to create an index to redo this in the same manual way as we did with the movie dataset? Or would `embedding` at least take care of that?\n",
        "- How do we interpret the loss in terms of ratings? Would $\\sqrt{MSELossFlat}$ be in terms of the original scale? I.e. does a loss of 13.3 translate to an average ratings miss of about 3.6 (out of 11)?\n",
        "- Hyperparameter tuning in fastai? More used to e.g. `scikit-learn` pipelines with grid search etc. What is the process here? Especially for something as time and resource intensive as this. "
      ]
    },
    {
      "cell_type": "code",
      "metadata": {
        "id": "gpWtLLuUMsDo",
        "outputId": "e702dcc8-c0bd-4b80-c933-8d7a5ff06feb",
        "colab": {
          "base_uri": "https://localhost:8080/",
          "height": 106
        }
      },
      "source": [
        "book_bias = learn.model.i_bias.weight.squeeze()\n",
        "idxs = book_bias.argsort(descending=True)[:5]\n",
        "[dls.classes['title-author'][i] for i in idxs]"
      ],
      "execution_count": 36,
      "outputs": [
        {
          "output_type": "execute_result",
          "data": {
            "text/plain": [
              "['To Kill a Mockingbird (Harper Lee)',\n",
              " \"Harry Potter and the Sorcerer's Stone (Harry Potter (Paperback)) (J. K. Rowling)\",\n",
              " 'Harry Potter and the Goblet of Fire (Book 4) (J. K. Rowling)',\n",
              " 'Harry Potter and the Order of the Phoenix (Book 5) (J. K. Rowling)',\n",
              " 'Harry Potter and the Prisoner of Azkaban (Book 3) (J. K. Rowling)']"
            ]
          },
          "metadata": {
            "tags": []
          },
          "execution_count": 36
        }
      ]
    },
    {
      "cell_type": "markdown",
      "metadata": {
        "id": "6zVSnjmMZWJv"
      },
      "source": [
        "## As a Neural Network"
      ]
    },
    {
      "cell_type": "code",
      "metadata": {
        "id": "yOSZmmvOZV1G",
        "outputId": "dcbcb406-f1a7-4025-ba4f-6ed20dbbe51c",
        "colab": {
          "base_uri": "https://localhost:8080/",
          "height": 35
        }
      },
      "source": [
        "embs = get_emb_sz(dls)\n",
        "embs"
      ],
      "execution_count": 37,
      "outputs": [
        {
          "output_type": "execute_result",
          "data": {
            "text/plain": [
              "[(59904, 600), (139648, 600)]"
            ]
          },
          "metadata": {
            "tags": []
          },
          "execution_count": 37
        }
      ]
    },
    {
      "cell_type": "code",
      "metadata": {
        "id": "UquUsLFYRf-v",
        "outputId": "f0ff1ee4-4809-40f8-be06-c79322b40167",
        "colab": {
          "base_uri": "https://localhost:8080/",
          "height": 301
        }
      },
      "source": [
        "learn = collab_learner(dls, use_nn=True, y_range = (1,10.5), layers=[100,50])\n",
        "learn.lr_find()"
      ],
      "execution_count": 38,
      "outputs": [
        {
          "output_type": "display_data",
          "data": {
            "text/html": [
              ""
            ],
            "text/plain": [
              "<IPython.core.display.HTML object>"
            ]
          },
          "metadata": {
            "tags": []
          }
        },
        {
          "output_type": "execute_result",
          "data": {
            "text/plain": [
              "SuggestedLRs(lr_min=0.025118863582611083, lr_steep=9.12010818865383e-07)"
            ]
          },
          "metadata": {
            "tags": []
          },
          "execution_count": 38
        },
        {
          "output_type": "display_data",
          "data": {
            "image/png": "[encoded data removed]",
            "text/plain": [
              "<Figure size 432x288 with 1 Axes>"
            ]
          },
          "metadata": {
            "tags": [],
            "needs_background": "light"
          }
        }
      ]
    },
    {
      "cell_type": "code",
      "metadata": {
        "id": "SQnepUOWY_Ay",
        "outputId": "9e84cb3c-02b2-433f-bab4-4a656ac2abad",
        "colab": {
          "base_uri": "https://localhost:8080/",
          "height": 206
        }
      },
      "source": [
        "learn.fit_one_cycle(5, max_lr=5e-3, wd=0.2)"
      ],
      "execution_count": 44,
      "outputs": [
        {
          "output_type": "display_data",
          "data": {
            "text/html": [
              "<table border=\"1\" class=\"dataframe\">\n",
              "  <thead>\n",
              "    <tr style=\"text-align: left;\">\n",
              "      <th>epoch</th>\n",
              "      <th>train_loss</th>\n",
              "      <th>valid_loss</th>\n",
              "      <th>time</th>\n",
              "    </tr>\n",
              "  </thead>\n",
              "  <tbody>\n",
              "    <tr>\n",
              "      <td>0</td>\n",
              "      <td>2.807508</td>\n",
              "      <td>2.804136</td>\n",
              "      <td>04:58</td>\n",
              "    </tr>\n",
              "    <tr>\n",
              "      <td>1</td>\n",
              "      <td>2.604411</td>\n",
              "      <td>2.748544</td>\n",
              "      <td>04:56</td>\n",
              "    </tr>\n",
              "    <tr>\n",
              "      <td>2</td>\n",
              "      <td>2.085615</td>\n",
              "      <td>2.765053</td>\n",
              "      <td>04:54</td>\n",
              "    </tr>\n",
              "    <tr>\n",
              "      <td>3</td>\n",
              "      <td>1.613051</td>\n",
              "      <td>2.830314</td>\n",
              "      <td>04:58</td>\n",
              "    </tr>\n",
              "    <tr>\n",
              "      <td>4</td>\n",
              "      <td>1.120712</td>\n",
              "      <td>2.918996</td>\n",
              "      <td>04:58</td>\n",
              "    </tr>\n",
              "  </tbody>\n",
              "</table>"
            ],
            "text/plain": [
              "<IPython.core.display.HTML object>"
            ]
          },
          "metadata": {
            "tags": []
          }
        }
      ]
    },
    {
      "cell_type": "markdown",
      "metadata": {
        "id": "K7ktEOl7e1t2"
      },
      "source": [
        "Even after only one epoch, our loss was considerably better. But training took a lot longer, and we overfit fairly quickly."
      ]
    },
    {
      "cell_type": "code",
      "metadata": {
        "id": "KEJpT5xYiR5Q",
        "outputId": "605392ce-64e7-4ab3-9d45-40bcc6e2164f",
        "colab": {
          "base_uri": "https://localhost:8080/",
          "height": 265
        }
      },
      "source": [
        "learn.recorder.plot_loss()"
      ],
      "execution_count": 45,
      "outputs": [
        {
          "output_type": "display_data",
          "data": {
            "image/png": "[encoded data removed]",
            "text/plain": [
              "<Figure size 432x288 with 1 Axes>"
            ]
          },
          "metadata": {
            "tags": [],
            "needs_background": "light"
          }
        }
      ]
    },
    {
      "cell_type": "code",
      "metadata": {
        "id": "5_QcF3p_id2H",
        "outputId": "bdbcce7c-32ca-4954-e7c0-1ee2b2a8fc00",
        "colab": {
          "base_uri": "https://localhost:8080/",
          "height": 35
        }
      },
      "source": [
        "learn.recorder.lrs[0], learn.recorder.lrs[-1], min(learn.recorder.lrs), max(learn.recorder.lrs)"
      ],
      "execution_count": 49,
      "outputs": [
        {
          "output_type": "execute_result",
          "data": {
            "text/plain": [
              "(4e-05, 1.0007614255303984e-08, 1.0007614255303984e-08, 0.0009999999980964361)"
            ]
          },
          "metadata": {
            "tags": []
          },
          "execution_count": 49
        }
      ]
    },
    {
      "cell_type": "code",
      "metadata": {
        "id": "cw1kG7WZjhOF",
        "outputId": "a3bf6f9d-0797-44eb-b543-51f6384f0c24",
        "colab": {
          "base_uri": "https://localhost:8080/",
          "height": 265
        }
      },
      "source": [
        "learn.recorder.plot_sched()"
      ],
      "execution_count": 50,
      "outputs": [
        {
          "output_type": "display_data",
          "data": {
            "image/png": "[encoded data removed]",
            "text/plain": [
              "<Figure size 864x288 with 2 Axes>"
            ]
          },
          "metadata": {
            "tags": [],
            "needs_background": "light"
          }
        }
      ]
    },
    {
      "cell_type": "markdown",
      "metadata": {
        "id": "Xkbv-7WDkNQ7"
      },
      "source": [
        "Interestingly, it doesn't look like the learning rate is updated per epoch but per batch. So I remain unsure what the major steps in training loss represent.\n",
        "\n",
        "What happens if we use layers with more activations?"
      ]
    },
    {
      "cell_type": "code",
      "metadata": {
        "id": "Gd-ZWIhRY_A4",
        "outputId": "205bf945-be20-4492-f46d-a3e6e86161fd",
        "colab": {
          "base_uri": "https://localhost:8080/",
          "height": 143
        }
      },
      "source": [
        "learn = collab_learner(dls, use_nn=True, y_range = (1,10.5), layers=[500,100])\n",
        "learn.fit_one_cycle(3, 5e-3, wd=0.1)"
      ],
      "execution_count": 51,
      "outputs": [
        {
          "output_type": "display_data",
          "data": {
            "text/html": [
              "<table border=\"1\" class=\"dataframe\">\n",
              "  <thead>\n",
              "    <tr style=\"text-align: left;\">\n",
              "      <th>epoch</th>\n",
              "      <th>train_loss</th>\n",
              "      <th>valid_loss</th>\n",
              "      <th>time</th>\n",
              "    </tr>\n",
              "  </thead>\n",
              "  <tbody>\n",
              "    <tr>\n",
              "      <td>0</td>\n",
              "      <td>2.858877</td>\n",
              "      <td>2.809577</td>\n",
              "      <td>04:57</td>\n",
              "    </tr>\n",
              "    <tr>\n",
              "      <td>1</td>\n",
              "      <td>2.648947</td>\n",
              "      <td>2.734031</td>\n",
              "      <td>04:55</td>\n",
              "    </tr>\n",
              "    <tr>\n",
              "      <td>2</td>\n",
              "      <td>1.950068</td>\n",
              "      <td>2.791432</td>\n",
              "      <td>04:57</td>\n",
              "    </tr>\n",
              "  </tbody>\n",
              "</table>"
            ],
            "text/plain": [
              "<IPython.core.display.HTML object>"
            ]
          },
          "metadata": {
            "tags": []
          }
        }
      ]
    },
    {
      "cell_type": "code",
      "metadata": {
        "id": "a39ntv0sY_A-",
        "outputId": "790ee7ee-135f-4fcb-a730-44895a9401b0",
        "colab": {
          "base_uri": "https://localhost:8080/",
          "height": 265
        }
      },
      "source": [
        "learn.recorder.plot_loss()"
      ],
      "execution_count": 52,
      "outputs": [
        {
          "output_type": "display_data",
          "data": {
            "image/png": "[encoded data removed]",
            "text/plain": [
              "<Figure size 432x288 with 1 Axes>"
            ]
          },
          "metadata": {
            "tags": [],
            "needs_background": "light"
          }
        }
      ]
    },
    {
      "cell_type": "markdown",
      "metadata": {
        "id": "PZBZE9JAY_BC"
      },
      "source": [
        "Our model overfit even quicker that time. Perhaps we need a higher weight decay? But I think wd is continuously applied. Momentum?"
      ]
    }
  ]
}