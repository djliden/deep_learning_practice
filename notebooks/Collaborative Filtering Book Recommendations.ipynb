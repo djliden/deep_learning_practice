{
  "nbformat": 4,
  "nbformat_minor": 0,
  "metadata": {
    "kernelspec": {
      "name": "python3",
      "display_name": "Python 3"
    },
    "colab": {
      "name": "Collaborative Filtering Book Recommendations.ipynb",
      "provenance": [],
      "include_colab_link": true
    },
    "accelerator": "GPU"
  },
  "cells": [
    {
      "cell_type": "markdown",
      "metadata": {
        "id": "view-in-github",
        "colab_type": "text"
      },
      "source": [
        "<a href=\"https://colab.research.google.com/github/djliden/deep_learning_practice/blob/main/notebooks/Collaborative%20Filtering%20Book%20Recommendations.ipynb\" target=\"_parent\"><img src=\"https://colab.research.google.com/assets/colab-badge.svg\" alt=\"Open In Colab\"/></a>"
      ]
    },
    {
      "cell_type": "markdown",
      "metadata": {
        "id": "WMEHoLGXMsBm"
      },
      "source": [
        "# Book Recommendation Dataset\n",
        "In this notebook, I attempt to reproduce the recommendation engine from chapter 8 using the [Book-Crossing Dataset](http://www2.informatik.uni-freiburg.de/~cziegler/BX/).\n",
        "\n",
        "Source: *Improving Recommendation Lists Through Topic Diversification*,\n",
        "Cai-Nicolas Ziegler, Sean M. McNee, Joseph A. Konstan, Georg Lausen; Proceedings of the 14th International World Wide Web Conference (WWW '05), May 10-14, 2005, Chiba, Japan. To appear.\n",
        "\n"
      ]
    },
    {
      "cell_type": "code",
      "metadata": {
        "id": "TH6KRe8qMuwV"
      },
      "source": [
        "%%capture\n",
        "!pip install --upgrade fastai"
      ],
      "execution_count": 1,
      "outputs": []
    },
    {
      "cell_type": "markdown",
      "metadata": {
        "id": "2zXfIQt-JS-t"
      },
      "source": [
        "Note the use of the `%%capture` tag -- this prevents the cell from printing the output, which is long and not particularly useful when simply reinstalling/upgrading fastai at the beginning of a colab session.\n",
        "\n",
        "## Downloading and Exploring the Data\n",
        "We will be following the same general process as in chapter 8 using the \"Book-Crossing\" dataset. Book-Crossing is a website for \"releasing your books 'into the wild' for a stranger to find.\" I didn't actually see book ratings on their website, so I don't have any additional details on the rating system used."
      ]
    },
    {
      "cell_type": "code",
      "metadata": {
        "id": "W3_TDxkIMsBp",
        "outputId": "a2c62e4f-2fd5-4782-ac77-2473c1177340",
        "colab": {
          "base_uri": "https://localhost:8080/",
          "height": 17
        }
      },
      "source": [
        "# Data Source http://www2.informatik.uni-freiburg.de/~cziegler/BX/BX-CSV-Dump.zip\n",
        "from fastai.collab import *\n",
        "from fastai.tabular.all import *\n",
        "import pandas as pd\n",
        "\n",
        "path = untar_data(\"http://www2.informatik.uni-freiburg.de/~cziegler/BX/BX-CSV-Dump.zip\")"
      ],
      "execution_count": 2,
      "outputs": [
        {
          "output_type": "display_data",
          "data": {
            "text/html": [
              ""
            ],
            "text/plain": [
              "<IPython.core.display.HTML object>"
            ]
          },
          "metadata": {
            "tags": []
          }
        }
      ]
    },
    {
      "cell_type": "markdown",
      "metadata": {
        "id": "GxvCJ9pAKYZK"
      },
      "source": [
        "Note that, in this case, our unzipped data do *not* end up in their own separate directory but are unzipped directly into `~/.fastai/data` (the default location for `untar_data`. So to access the unzipped files, we need to look in `path.parent` as the default `untar_data` options (apparently) assume that a new directory is created. "
      ]
    },
    {
      "cell_type": "code",
      "metadata": {
        "id": "xqN2jpiTMsB7"
      },
      "source": [
        "bookratings = pd.read_csv(path.parent / 'BX-Book-Ratings.csv', sep=';', encoding = \"ISO-8859-1\")\n",
        "booknames = pd.read_csv(path.parent / 'BX-Books.csv', sep=';', encoding = \"ISO-8859-1\",\n",
        "                       quotechar='\"', escapechar='\\\\', usecols=(0,1,2))"
      ],
      "execution_count": 24,
      "outputs": []
    },
    {
      "cell_type": "markdown",
      "metadata": {
        "id": "ExoT3-yXK4Ai"
      },
      "source": [
        "Parsing the data took some work as several of the fields have quotes or semicolons. Semicolons are the separator for these `csv`s and quotes mark text fields, so we need to make sure that these characters are handled appropriately when they appear within fields. I also needed to specify the encoding, though I can't say with any certainty why that particular encoding worked. It was in a stackexchange answer."
      ]
    },
    {
      "cell_type": "code",
      "metadata": {
        "id": "nsDSpBiLMsCL",
        "outputId": "090fbee9-929c-45e6-adeb-5c1cd7e8cdc8",
        "colab": {
          "base_uri": "https://localhost:8080/",
          "height": 121
        }
      },
      "source": [
        "bookratings.head(), bookratings.shape"
      ],
      "execution_count": 4,
      "outputs": [
        {
          "output_type": "execute_result",
          "data": {
            "text/plain": [
              "(   User-ID        ISBN  Book-Rating\n",
              " 0   276725  034545104X            0\n",
              " 1   276726  0155061224            5\n",
              " 2   276727  0446520802            0\n",
              " 3   276729  052165615X            3\n",
              " 4   276729  0521795028            6, (1149780, 3))"
            ]
          },
          "metadata": {
            "tags": []
          },
          "execution_count": 4
        }
      ]
    },
    {
      "cell_type": "markdown",
      "metadata": {
        "id": "DXY2BT0uLmsl"
      },
      "source": [
        "This is quite a bit bigger than the MovieLens subset we worked through in chapter 8, with 1.15 million ratings."
      ]
    },
    {
      "cell_type": "code",
      "metadata": {
        "id": "pynGaIOmLw_w",
        "outputId": "df75f59f-6baa-4f2d-84f0-8fbbec5d3750",
        "colab": {
          "base_uri": "https://localhost:8080/",
          "height": 86
        }
      },
      "source": [
        "bookratings.nunique()"
      ],
      "execution_count": 5,
      "outputs": [
        {
          "output_type": "execute_result",
          "data": {
            "text/plain": [
              "User-ID        105283\n",
              "ISBN           340556\n",
              "Book-Rating        11\n",
              "dtype: int64"
            ]
          },
          "metadata": {
            "tags": []
          },
          "execution_count": 5
        }
      ]
    },
    {
      "cell_type": "markdown",
      "metadata": {
        "id": "jDnbEaZGL63e"
      },
      "source": [
        "So we have more than 100,000 unique users and more than 340,000 unique books. We also have 11 ratings, on a 0 through 10 scale."
      ]
    },
    {
      "cell_type": "code",
      "metadata": {
        "id": "UE5uLPnVM24O",
        "outputId": "b820c9f1-beda-4369-c670-d7200dc1bcaf",
        "colab": {
          "base_uri": "https://localhost:8080/",
          "height": 34
        }
      },
      "source": [
        "np.sort(bookratings['Book-Rating'].unique())"
      ],
      "execution_count": 16,
      "outputs": [
        {
          "output_type": "execute_result",
          "data": {
            "text/plain": [
              "array([ 0,  1,  2,  3,  4,  5,  6,  7,  8,  9, 10])"
            ]
          },
          "metadata": {
            "tags": []
          },
          "execution_count": 16
        }
      ]
    },
    {
      "cell_type": "markdown",
      "metadata": {
        "id": "ebhZ9K25NhyB"
      },
      "source": [
        "### Getting Book Titles\n",
        "We also want a way to figure out the titles of books. These were stored in a separate csv file, which we extracted above. Let's take a look."
      ]
    },
    {
      "cell_type": "code",
      "metadata": {
        "scrolled": false,
        "id": "4lyTkJRyMsCb",
        "outputId": "d6b73368-3b52-4148-bb26-f5e0481384da",
        "colab": {
          "base_uri": "https://localhost:8080/",
          "height": 206
        }
      },
      "source": [
        "booknames['title-author'] = booknames['Book-Title'] + ' (' + booknames['Book-Author'] + ')'\n",
        "booknames = booknames.drop(['Book-Title', 'Book-Author'],1)\n",
        "booknames.head()"
      ],
      "execution_count": 34,
      "outputs": [
        {
          "output_type": "execute_result",
          "data": {
            "text/html": [
              "<div>\n",
              "<style scoped>\n",
              "    .dataframe tbody tr th:only-of-type {\n",
              "        vertical-align: middle;\n",
              "    }\n",
              "\n",
              "    .dataframe tbody tr th {\n",
              "        vertical-align: top;\n",
              "    }\n",
              "\n",
              "    .dataframe thead th {\n",
              "        text-align: right;\n",
              "    }\n",
              "</style>\n",
              "<table border=\"1\" class=\"dataframe\">\n",
              "  <thead>\n",
              "    <tr style=\"text-align: right;\">\n",
              "      <th></th>\n",
              "      <th>ISBN</th>\n",
              "      <th>title-author</th>\n",
              "    </tr>\n",
              "  </thead>\n",
              "  <tbody>\n",
              "    <tr>\n",
              "      <th>0</th>\n",
              "      <td>0195153448</td>\n",
              "      <td>Classical Mythology (Mark P. O. Morford)</td>\n",
              "    </tr>\n",
              "    <tr>\n",
              "      <th>1</th>\n",
              "      <td>0002005018</td>\n",
              "      <td>Clara Callan (Richard Bruce Wright)</td>\n",
              "    </tr>\n",
              "    <tr>\n",
              "      <th>2</th>\n",
              "      <td>0060973129</td>\n",
              "      <td>Decision in Normandy (Carlo D'Este)</td>\n",
              "    </tr>\n",
              "    <tr>\n",
              "      <th>3</th>\n",
              "      <td>0374157065</td>\n",
              "      <td>Flu: The Story of the Great Influenza Pandemic of 1918 and the Search for the Virus That Caused It (Gina Bari Kolata)</td>\n",
              "    </tr>\n",
              "    <tr>\n",
              "      <th>4</th>\n",
              "      <td>0393045218</td>\n",
              "      <td>The Mummies of Urumchi (E. J. W. Barber)</td>\n",
              "    </tr>\n",
              "  </tbody>\n",
              "</table>\n",
              "</div>"
            ],
            "text/plain": [
              "         ISBN                                                                                                           title-author\n",
              "0  0195153448                                                                               Classical Mythology (Mark P. O. Morford)\n",
              "1  0002005018                                                                                    Clara Callan (Richard Bruce Wright)\n",
              "2  0060973129                                                                                    Decision in Normandy (Carlo D'Este)\n",
              "3  0374157065  Flu: The Story of the Great Influenza Pandemic of 1918 and the Search for the Virus That Caused It (Gina Bari Kolata)\n",
              "4  0393045218                                                                               The Mummies of Urumchi (E. J. W. Barber)"
            ]
          },
          "metadata": {
            "tags": []
          },
          "execution_count": 34
        }
      ]
    },
    {
      "cell_type": "markdown",
      "metadata": {
        "id": "FmdtLNXQN9mm"
      },
      "source": [
        "And now we'll merge this into our book ratings dataframe."
      ]
    },
    {
      "cell_type": "code",
      "metadata": {
        "id": "xetKr-cdMsCn",
        "outputId": "14f5da50-d8bd-4693-f30a-9903bdeb394c",
        "colab": {
          "base_uri": "https://localhost:8080/",
          "height": 206
        }
      },
      "source": [
        "books = bookratings.merge(booknames, on='ISBN')\n",
        "books.head()"
      ],
      "execution_count": 35,
      "outputs": [
        {
          "output_type": "execute_result",
          "data": {
            "text/html": [
              "<div>\n",
              "<style scoped>\n",
              "    .dataframe tbody tr th:only-of-type {\n",
              "        vertical-align: middle;\n",
              "    }\n",
              "\n",
              "    .dataframe tbody tr th {\n",
              "        vertical-align: top;\n",
              "    }\n",
              "\n",
              "    .dataframe thead th {\n",
              "        text-align: right;\n",
              "    }\n",
              "</style>\n",
              "<table border=\"1\" class=\"dataframe\">\n",
              "  <thead>\n",
              "    <tr style=\"text-align: right;\">\n",
              "      <th></th>\n",
              "      <th>User-ID</th>\n",
              "      <th>ISBN</th>\n",
              "      <th>Book-Rating</th>\n",
              "      <th>title-author</th>\n",
              "    </tr>\n",
              "  </thead>\n",
              "  <tbody>\n",
              "    <tr>\n",
              "      <th>0</th>\n",
              "      <td>276725</td>\n",
              "      <td>034545104X</td>\n",
              "      <td>0</td>\n",
              "      <td>Flesh Tones: A Novel (M. J. Rose)</td>\n",
              "    </tr>\n",
              "    <tr>\n",
              "      <th>1</th>\n",
              "      <td>2313</td>\n",
              "      <td>034545104X</td>\n",
              "      <td>5</td>\n",
              "      <td>Flesh Tones: A Novel (M. J. Rose)</td>\n",
              "    </tr>\n",
              "    <tr>\n",
              "      <th>2</th>\n",
              "      <td>6543</td>\n",
              "      <td>034545104X</td>\n",
              "      <td>0</td>\n",
              "      <td>Flesh Tones: A Novel (M. J. Rose)</td>\n",
              "    </tr>\n",
              "    <tr>\n",
              "      <th>3</th>\n",
              "      <td>8680</td>\n",
              "      <td>034545104X</td>\n",
              "      <td>5</td>\n",
              "      <td>Flesh Tones: A Novel (M. J. Rose)</td>\n",
              "    </tr>\n",
              "    <tr>\n",
              "      <th>4</th>\n",
              "      <td>10314</td>\n",
              "      <td>034545104X</td>\n",
              "      <td>9</td>\n",
              "      <td>Flesh Tones: A Novel (M. J. Rose)</td>\n",
              "    </tr>\n",
              "  </tbody>\n",
              "</table>\n",
              "</div>"
            ],
            "text/plain": [
              "   User-ID        ISBN  Book-Rating                       title-author\n",
              "0   276725  034545104X            0  Flesh Tones: A Novel (M. J. Rose)\n",
              "1     2313  034545104X            5  Flesh Tones: A Novel (M. J. Rose)\n",
              "2     6543  034545104X            0  Flesh Tones: A Novel (M. J. Rose)\n",
              "3     8680  034545104X            5  Flesh Tones: A Novel (M. J. Rose)\n",
              "4    10314  034545104X            9  Flesh Tones: A Novel (M. J. Rose)"
            ]
          },
          "metadata": {
            "tags": []
          },
          "execution_count": 35
        }
      ]
    },
    {
      "cell_type": "markdown",
      "metadata": {
        "id": "q63Omu30MsDD"
      },
      "source": [
        "Now we have our dataframe of users, ratings, and titles. Let's proceed with our collaborative learner.\n",
        "\n",
        "### Prepare the DataLoaders"
      ]
    },
    {
      "cell_type": "code",
      "metadata": {
        "id": "k7ZEYGWlMsDE",
        "outputId": "8b9c63f6-a920-46d3-a4ff-27ae95618aec",
        "colab": {
          "base_uri": "https://localhost:8080/",
          "height": 363
        }
      },
      "source": [
        "dls = CollabDataLoaders.from_df(books,\n",
        "                                user_name='User-ID',\n",
        "                                rating_name='Book-Rating',\n",
        "                                item_name='title-author', bs=64,\n",
        "                                seed=46)\n",
        "dls.show_batch()"
      ],
      "execution_count": 36,
      "outputs": [
        {
          "output_type": "display_data",
          "data": {
            "text/html": [
              "<table border=\"1\" class=\"dataframe\">\n",
              "  <thead>\n",
              "    <tr style=\"text-align: right;\">\n",
              "      <th></th>\n",
              "      <th>User-ID</th>\n",
              "      <th>title-author</th>\n",
              "      <th>Book-Rating</th>\n",
              "    </tr>\n",
              "  </thead>\n",
              "  <tbody>\n",
              "    <tr>\n",
              "      <th>0</th>\n",
              "      <td>156300</td>\n",
              "      <td>Having It All (Helen Gurley Brown)</td>\n",
              "      <td>7</td>\n",
              "    </tr>\n",
              "    <tr>\n",
              "      <th>1</th>\n",
              "      <td>20126</td>\n",
              "      <td>Cradle and All (James Patterson)</td>\n",
              "      <td>0</td>\n",
              "    </tr>\n",
              "    <tr>\n",
              "      <th>2</th>\n",
              "      <td>82831</td>\n",
              "      <td>Wizard of Oz Postcards in Full Color (Card Books) (Ted Menten)</td>\n",
              "      <td>8</td>\n",
              "    </tr>\n",
              "    <tr>\n",
              "      <th>3</th>\n",
              "      <td>278418</td>\n",
              "      <td>Tweety and Sylvester in Birds of a feather (A Little golden book) (Jean Lewis)</td>\n",
              "      <td>0</td>\n",
              "    </tr>\n",
              "    <tr>\n",
              "      <th>4</th>\n",
              "      <td>174719</td>\n",
              "      <td>The Red Tent (Bestselling Backlist) (Anita Diamant)</td>\n",
              "      <td>0</td>\n",
              "    </tr>\n",
              "    <tr>\n",
              "      <th>5</th>\n",
              "      <td>215512</td>\n",
              "      <td>The Empire Strikes Back (Star Wars) (Donald F. Glut)</td>\n",
              "      <td>9</td>\n",
              "    </tr>\n",
              "    <tr>\n",
              "      <th>6</th>\n",
              "      <td>209373</td>\n",
              "      <td>The Regulators (Stephen King)</td>\n",
              "      <td>0</td>\n",
              "    </tr>\n",
              "    <tr>\n",
              "      <th>7</th>\n",
              "      <td>240568</td>\n",
              "      <td>Dreamcatcher (Stephen King)</td>\n",
              "      <td>0</td>\n",
              "    </tr>\n",
              "    <tr>\n",
              "      <th>8</th>\n",
              "      <td>39396</td>\n",
              "      <td>Die schÃ?Â¶ne Frau Seidenman. Roman. (Andrzej Szczypiorski)</td>\n",
              "      <td>8</td>\n",
              "    </tr>\n",
              "    <tr>\n",
              "      <th>9</th>\n",
              "      <td>56246</td>\n",
              "      <td>Pride and Prejudice (The Penguin English Library, El 72) (Jane Austen)</td>\n",
              "      <td>0</td>\n",
              "    </tr>\n",
              "  </tbody>\n",
              "</table>"
            ],
            "text/plain": [
              "<IPython.core.display.HTML object>"
            ]
          },
          "metadata": {
            "tags": []
          }
        }
      ]
    },
    {
      "cell_type": "markdown",
      "metadata": {
        "id": "8wTXC_BdQJeK"
      },
      "source": [
        "## Fit the First Model"
      ]
    },
    {
      "cell_type": "code",
      "metadata": {
        "id": "pEGcn0WWMsDf",
        "outputId": "5c8e0ffa-67bc-4954-db7f-adcd1fa202bc",
        "colab": {
          "base_uri": "https://localhost:8080/",
          "height": 206
        }
      },
      "source": [
        "learn = collab_learner(dls, n_factors=50, y_range=(0,10.5))\n",
        "#learn.lr_find()\n",
        "learn.fit_one_cycle(5,.1,wd=0.1)"
      ],
      "execution_count": 40,
      "outputs": [
        {
          "output_type": "display_data",
          "data": {
            "text/html": [
              "<table border=\"1\" class=\"dataframe\">\n",
              "  <thead>\n",
              "    <tr style=\"text-align: left;\">\n",
              "      <th>epoch</th>\n",
              "      <th>train_loss</th>\n",
              "      <th>valid_loss</th>\n",
              "      <th>time</th>\n",
              "    </tr>\n",
              "  </thead>\n",
              "  <tbody>\n",
              "    <tr>\n",
              "      <td>0</td>\n",
              "      <td>15.066462</td>\n",
              "      <td>15.446895</td>\n",
              "      <td>03:59</td>\n",
              "    </tr>\n",
              "    <tr>\n",
              "      <td>1</td>\n",
              "      <td>15.468747</td>\n",
              "      <td>15.347105</td>\n",
              "      <td>04:00</td>\n",
              "    </tr>\n",
              "    <tr>\n",
              "      <td>2</td>\n",
              "      <td>14.883550</td>\n",
              "      <td>14.909536</td>\n",
              "      <td>04:01</td>\n",
              "    </tr>\n",
              "    <tr>\n",
              "      <td>3</td>\n",
              "      <td>14.015461</td>\n",
              "      <td>14.055064</td>\n",
              "      <td>03:59</td>\n",
              "    </tr>\n",
              "    <tr>\n",
              "      <td>4</td>\n",
              "      <td>13.435443</td>\n",
              "      <td>13.339598</td>\n",
              "      <td>04:00</td>\n",
              "    </tr>\n",
              "  </tbody>\n",
              "</table>"
            ],
            "text/plain": [
              "<IPython.core.display.HTML object>"
            ]
          },
          "metadata": {
            "tags": []
          }
        }
      ]
    },
    {
      "cell_type": "markdown",
      "metadata": {
        "id": "sNsRrzJdMsDm"
      },
      "source": [
        "### QUESTIONS\n",
        "- How does it know which is the user and which is the item? **Answer:** *Assumes user name is first column, item name is second, and rating is third. Though in this case I just made it explicit.*\n",
        "- Why does this one take so much longer than the movies dataset? *Number of observations is much larger*\n",
        "- It doesn't seem to matter that the User-ID isn't any kind of index. Would we need to create an index to redo this in the same manual way as we did with the movie dataset? Or would `embedding` at least take care of that?\n",
        "- How do we interpret the loss in terms of ratings? Would $\\sqrt{MSELossFlat}$ be in terms of the original scale? I.e. does a loss of 13.3 translate to an average ratings miss of about 3.6 (out of 11)?\n",
        "- Hyperparameter tuning in fastai? More used to e.g. `scikit-learn` pipelines with grid search etc. What is the process here? Especially for something as time and resource intensive as this. "
      ]
    },
    {
      "cell_type": "code",
      "metadata": {
        "id": "gpWtLLuUMsDo",
        "outputId": "60c82771-e85f-4c4e-8507-4fecbbae1f69",
        "colab": {
          "base_uri": "https://localhost:8080/",
          "height": 104
        }
      },
      "source": [
        "book_bias = learn.model.i_bias.weight.squeeze()\n",
        "idxs = book_bias.argsort(descending=True)[:5]\n",
        "[dls.classes['title-author'][i] for i in idxs]"
      ],
      "execution_count": 41,
      "outputs": [
        {
          "output_type": "execute_result",
          "data": {
            "text/plain": [
              "['Harry Potter and the Goblet of Fire (Book 4) (J. K. Rowling)',\n",
              " 'Harry Potter and the Prisoner of Azkaban (Book 3) (J. K. Rowling)',\n",
              " 'Free (Paul Vincent)',\n",
              " \"Ender's Game (Ender Wiggins Saga (Paperback)) (Orson Scott Card)\",\n",
              " 'The Little Prince (Antoine de Saint-ExupÃ©ry)']"
            ]
          },
          "metadata": {
            "tags": []
          },
          "execution_count": 41
        }
      ]
    },
    {
      "cell_type": "markdown",
      "metadata": {
        "id": "6zVSnjmMZWJv"
      },
      "source": [
        "## As a Neural Network"
      ]
    },
    {
      "cell_type": "code",
      "metadata": {
        "id": "yOSZmmvOZV1G",
        "outputId": "cf97f573-f61a-4e13-8fda-fce2c8b5f8d5",
        "colab": {
          "base_uri": "https://localhost:8080/",
          "height": 34
        }
      },
      "source": [
        "embs = get_emb_sz(dls)\n",
        "embs"
      ],
      "execution_count": 42,
      "outputs": [
        {
          "output_type": "execute_result",
          "data": {
            "text/plain": [
              "[(81366, 600), (250105, 600)]"
            ]
          },
          "metadata": {
            "tags": []
          },
          "execution_count": 42
        }
      ]
    },
    {
      "cell_type": "code",
      "metadata": {
        "id": "UquUsLFYRf-v",
        "outputId": "4f196046-f6b3-4ca8-8aba-b5ce99d58bcd",
        "colab": {
          "base_uri": "https://localhost:8080/",
          "height": 206
        }
      },
      "source": [
        "learn = collab_learner(dls, user_nn=True, y_range = (0,10.5), layers=[100,50])\n",
        "#learn.lr_find()\n",
        "learn.fit_one_cycle(5, 0.1, wd=0.1)"
      ],
      "execution_count": 44,
      "outputs": [
        {
          "output_type": "display_data",
          "data": {
            "text/html": [
              "<table border=\"1\" class=\"dataframe\">\n",
              "  <thead>\n",
              "    <tr style=\"text-align: left;\">\n",
              "      <th>epoch</th>\n",
              "      <th>train_loss</th>\n",
              "      <th>valid_loss</th>\n",
              "      <th>time</th>\n",
              "    </tr>\n",
              "  </thead>\n",
              "  <tbody>\n",
              "    <tr>\n",
              "      <td>0</td>\n",
              "      <td>15.245897</td>\n",
              "      <td>15.373637</td>\n",
              "      <td>04:00</td>\n",
              "    </tr>\n",
              "    <tr>\n",
              "      <td>1</td>\n",
              "      <td>15.370492</td>\n",
              "      <td>15.348920</td>\n",
              "      <td>03:58</td>\n",
              "    </tr>\n",
              "    <tr>\n",
              "      <td>2</td>\n",
              "      <td>14.805840</td>\n",
              "      <td>14.855903</td>\n",
              "      <td>03:58</td>\n",
              "    </tr>\n",
              "    <tr>\n",
              "      <td>3</td>\n",
              "      <td>13.974327</td>\n",
              "      <td>14.048915</td>\n",
              "      <td>03:59</td>\n",
              "    </tr>\n",
              "    <tr>\n",
              "      <td>4</td>\n",
              "      <td>13.408048</td>\n",
              "      <td>13.349656</td>\n",
              "      <td>04:00</td>\n",
              "    </tr>\n",
              "  </tbody>\n",
              "</table>"
            ],
            "text/plain": [
              "<IPython.core.display.HTML object>"
            ]
          },
          "metadata": {
            "tags": []
          }
        }
      ]
    },
    {
      "cell_type": "code",
      "metadata": {
        "id": "ZRhSgkfTfAOj",
        "outputId": "340f7c67-1321-4ddb-aff8-516c42e6a1ca",
        "colab": {
          "base_uri": "https://localhost:8080/",
          "height": 267
        }
      },
      "source": [
        "learn.recorder.plot_loss()"
      ],
      "execution_count": 46,
      "outputs": [
        {
          "output_type": "display_data",
          "data": {
            "image/png": "[encoded data removed]",
            "text/plain": [
              "<Figure size 432x288 with 1 Axes>"
            ]
          },
          "metadata": {
            "tags": [],
            "needs_background": "light"
          }
        }
      ]
    },
    {
      "cell_type": "markdown",
      "metadata": {
        "id": "K7ktEOl7e1t2"
      },
      "source": [
        "The final loss was marginally worse than what we obtained before."
      ]
    },
    {
      "cell_type": "code",
      "metadata": {
        "id": "bvO0yKuQR5Mi",
        "outputId": "e13690cf-e61a-4289-e7b7-f4e2ec32435b",
        "colab": {
          "base_uri": "https://localhost:8080/",
          "height": 104
        }
      },
      "source": [
        "book_bias = learn.model.i_bias.weight.squeeze()\n",
        "idxs = book_bias.argsort(descending=True)[:5]\n",
        "[dls.classes['title-author'][i] for i in idxs]"
      ],
      "execution_count": 50,
      "outputs": [
        {
          "output_type": "execute_result",
          "data": {
            "text/plain": [
              "['Harry Potter and the Goblet of Fire (Book 4) (J. K. Rowling)',\n",
              " 'Harry Potter and the Prisoner of Azkaban (Book 3) (J. K. Rowling)',\n",
              " 'Free (Paul Vincent)',\n",
              " 'Harry Potter and the Order of the Phoenix (Book 5) (J. K. Rowling)',\n",
              " \"Harry Potter and the Sorcerer's Stone (Book 1) (J. K. Rowling)\"]"
            ]
          },
          "metadata": {
            "tags": []
          },
          "execution_count": 50
        }
      ]
    },
    {
      "cell_type": "markdown",
      "metadata": {
        "id": "JUTaFAbKXSnT"
      },
      "source": [
        "Similar. I remain confused by \"Free.\" It doesn't seem to be a paricularly popular or well-known book based on my searching. I found a fairly detailed EDA from a kaggle user [here](https://www.kaggle.com/somnambwl/very-basic-book-recommendations). It found that Free was, indeed, one of the most-rated books, with a high average rating.\n",
        "\n",
        "At the end of this exercise, my biggest outstanding question is: what is a good process for hyperparameter tuning using `fastai`?"
      ]
    },
    {
      "cell_type": "code",
      "metadata": {
        "id": "dvKj_0V7ieV7",
        "outputId": "193fb697-219d-4915-903e-72bb66557f87",
        "colab": {
          "base_uri": "https://localhost:8080/",
          "height": 37
        }
      },
      "source": [
        "## Book Similarity\n",
        "\n",
        "book_factors = learn.model.i_weight.weight\n",
        "idx = dls.classes['title-author'].o2i[\"Harry Potter and the Goblet of Fire (Book 4) (J. K. Rowling)\"]\n",
        "distances = nn.CosineSimilarity(dim=1)(book_factors, book_factors[idx][None])\n",
        "idxs = distances.argsort(descending=True)[1]\n",
        "dls.classes['title-author'][idxs]"
      ],
      "execution_count": 68,
      "outputs": [
        {
          "output_type": "execute_result",
          "data": {
            "application/vnd.google.colaboratory.intrinsic+json": {
              "type": "string"
            },
            "text/plain": [
              "'Harry Potter and the Prisoner of Azkaban (Book 3) (J. K. Rowling)'"
            ]
          },
          "metadata": {
            "tags": []
          },
          "execution_count": 68
        }
      ]
    },
    {
      "cell_type": "markdown",
      "metadata": {
        "id": "ALTWvy0Sk5b9"
      },
      "source": [
        "Makes sense. Though to be completely transparent, most of the \"book similarities' did *not* make intuitive sense to me."
      ]
    },
    {
      "cell_type": "code",
      "metadata": {
        "id": "0tDGdEHNjRMo"
      },
      "source": [
        ""
      ],
      "execution_count": null,
      "outputs": []
    }
  ]
}