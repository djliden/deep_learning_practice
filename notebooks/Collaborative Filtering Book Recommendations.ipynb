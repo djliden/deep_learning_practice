{
  "nbformat": 4,
  "nbformat_minor": 0,
  "metadata": {
    "kernelspec": {
      "name": "python3",
      "display_name": "Python 3"
    },
    "colab": {
      "name": "Collaborative Filtering Book Recommendations.ipynb",
      "provenance": []
    },
    "accelerator": "GPU"
  },
  "cells": [
    {
      "cell_type": "markdown",
      "metadata": {
        "id": "WMEHoLGXMsBm"
      },
      "source": [
        "# Book Recommendation Dataset\n",
        "In this notebook, I attempt to reproduce the recommendation engine from chapter 8 using the [Book-Crossing Dataset](http://www2.informatik.uni-freiburg.de/~cziegler/BX/).\n",
        "\n",
        "Source: *Improving Recommendation Lists Through Topic Diversification*,\n",
        "Cai-Nicolas Ziegler, Sean M. McNee, Joseph A. Konstan, Georg Lausen; Proceedings of the 14th International World Wide Web Conference (WWW '05), May 10-14, 2005, Chiba, Japan. To appear.\n",
        "\n"
      ]
    },
    {
      "cell_type": "code",
      "metadata": {
        "id": "TH6KRe8qMuwV"
      },
      "source": [
        "%%capture\n",
        "!pip install --upgrade fastai"
      ],
      "execution_count": 1,
      "outputs": []
    },
    {
      "cell_type": "code",
      "metadata": {
        "id": "W3_TDxkIMsBp",
        "outputId": "47abf643-6a6e-42d4-f766-dfdb3d0b2cb1",
        "colab": {
          "base_uri": "https://localhost:8080/",
          "height": 17
        }
      },
      "source": [
        "# Data Source http://www2.informatik.uni-freiburg.de/~cziegler/BX/BX-CSV-Dump.zip\n",
        "from fastai.collab import *\n",
        "from fastai.tabular.all import *\n",
        "import pandas as pd\n",
        "\n",
        "path = untar_data(\"http://www2.informatik.uni-freiburg.de/~cziegler/BX/BX-CSV-Dump.zip\")"
      ],
      "execution_count": 2,
      "outputs": [
        {
          "output_type": "display_data",
          "data": {
            "text/html": [
              ""
            ],
            "text/plain": [
              "<IPython.core.display.HTML object>"
            ]
          },
          "metadata": {
            "tags": []
          }
        }
      ]
    },
    {
      "cell_type": "code",
      "metadata": {
        "id": "xqN2jpiTMsB7"
      },
      "source": [
        "bookratings = pd.read_csv(path.parent / 'BX-Book-Ratings.csv', sep=';', encoding = \"ISO-8859-1\")\n",
        "booknames = pd.read_csv(path.parent / 'BX-Books.csv', sep=';', encoding = \"ISO-8859-1\",\n",
        "                       quotechar='\"', escapechar='\\\\', usecols=(0,1))"
      ],
      "execution_count": 3,
      "outputs": []
    },
    {
      "cell_type": "code",
      "metadata": {
        "id": "nsDSpBiLMsCL",
        "outputId": "18396640-1d63-4984-9b96-2c8cb93120c1",
        "colab": {
          "base_uri": "https://localhost:8080/",
          "height": 206
        }
      },
      "source": [
        "bookratings.head()"
      ],
      "execution_count": 4,
      "outputs": [
        {
          "output_type": "execute_result",
          "data": {
            "text/html": [
              "<div>\n",
              "<style scoped>\n",
              "    .dataframe tbody tr th:only-of-type {\n",
              "        vertical-align: middle;\n",
              "    }\n",
              "\n",
              "    .dataframe tbody tr th {\n",
              "        vertical-align: top;\n",
              "    }\n",
              "\n",
              "    .dataframe thead th {\n",
              "        text-align: right;\n",
              "    }\n",
              "</style>\n",
              "<table border=\"1\" class=\"dataframe\">\n",
              "  <thead>\n",
              "    <tr style=\"text-align: right;\">\n",
              "      <th></th>\n",
              "      <th>User-ID</th>\n",
              "      <th>ISBN</th>\n",
              "      <th>Book-Rating</th>\n",
              "    </tr>\n",
              "  </thead>\n",
              "  <tbody>\n",
              "    <tr>\n",
              "      <th>0</th>\n",
              "      <td>276725</td>\n",
              "      <td>034545104X</td>\n",
              "      <td>0</td>\n",
              "    </tr>\n",
              "    <tr>\n",
              "      <th>1</th>\n",
              "      <td>276726</td>\n",
              "      <td>0155061224</td>\n",
              "      <td>5</td>\n",
              "    </tr>\n",
              "    <tr>\n",
              "      <th>2</th>\n",
              "      <td>276727</td>\n",
              "      <td>0446520802</td>\n",
              "      <td>0</td>\n",
              "    </tr>\n",
              "    <tr>\n",
              "      <th>3</th>\n",
              "      <td>276729</td>\n",
              "      <td>052165615X</td>\n",
              "      <td>3</td>\n",
              "    </tr>\n",
              "    <tr>\n",
              "      <th>4</th>\n",
              "      <td>276729</td>\n",
              "      <td>0521795028</td>\n",
              "      <td>6</td>\n",
              "    </tr>\n",
              "  </tbody>\n",
              "</table>\n",
              "</div>"
            ],
            "text/plain": [
              "   User-ID        ISBN  Book-Rating\n",
              "0   276725  034545104X            0\n",
              "1   276726  0155061224            5\n",
              "2   276727  0446520802            0\n",
              "3   276729  052165615X            3\n",
              "4   276729  0521795028            6"
            ]
          },
          "metadata": {
            "tags": []
          },
          "execution_count": 4
        }
      ]
    },
    {
      "cell_type": "code",
      "metadata": {
        "scrolled": false,
        "id": "4lyTkJRyMsCb",
        "outputId": "a7c12cb7-a24f-4818-a1c6-8782dff5576a",
        "colab": {
          "base_uri": "https://localhost:8080/",
          "height": 206
        }
      },
      "source": [
        "booknames.head()"
      ],
      "execution_count": 5,
      "outputs": [
        {
          "output_type": "execute_result",
          "data": {
            "text/html": [
              "<div>\n",
              "<style scoped>\n",
              "    .dataframe tbody tr th:only-of-type {\n",
              "        vertical-align: middle;\n",
              "    }\n",
              "\n",
              "    .dataframe tbody tr th {\n",
              "        vertical-align: top;\n",
              "    }\n",
              "\n",
              "    .dataframe thead th {\n",
              "        text-align: right;\n",
              "    }\n",
              "</style>\n",
              "<table border=\"1\" class=\"dataframe\">\n",
              "  <thead>\n",
              "    <tr style=\"text-align: right;\">\n",
              "      <th></th>\n",
              "      <th>ISBN</th>\n",
              "      <th>Book-Title</th>\n",
              "    </tr>\n",
              "  </thead>\n",
              "  <tbody>\n",
              "    <tr>\n",
              "      <th>0</th>\n",
              "      <td>0195153448</td>\n",
              "      <td>Classical Mythology</td>\n",
              "    </tr>\n",
              "    <tr>\n",
              "      <th>1</th>\n",
              "      <td>0002005018</td>\n",
              "      <td>Clara Callan</td>\n",
              "    </tr>\n",
              "    <tr>\n",
              "      <th>2</th>\n",
              "      <td>0060973129</td>\n",
              "      <td>Decision in Normandy</td>\n",
              "    </tr>\n",
              "    <tr>\n",
              "      <th>3</th>\n",
              "      <td>0374157065</td>\n",
              "      <td>Flu: The Story of the Great Influenza Pandemic of 1918 and the Search for the Virus That Caused It</td>\n",
              "    </tr>\n",
              "    <tr>\n",
              "      <th>4</th>\n",
              "      <td>0393045218</td>\n",
              "      <td>The Mummies of Urumchi</td>\n",
              "    </tr>\n",
              "  </tbody>\n",
              "</table>\n",
              "</div>"
            ],
            "text/plain": [
              "         ISBN                                                                                          Book-Title\n",
              "0  0195153448                                                                                 Classical Mythology\n",
              "1  0002005018                                                                                        Clara Callan\n",
              "2  0060973129                                                                                Decision in Normandy\n",
              "3  0374157065  Flu: The Story of the Great Influenza Pandemic of 1918 and the Search for the Virus That Caused It\n",
              "4  0393045218                                                                              The Mummies of Urumchi"
            ]
          },
          "metadata": {
            "tags": []
          },
          "execution_count": 5
        }
      ]
    },
    {
      "cell_type": "code",
      "metadata": {
        "id": "xetKr-cdMsCn"
      },
      "source": [
        "#print(booknames['Book-Title'][booknames['ISBN']=='0195153448'][0])\n",
        "books = bookratings.merge(booknames, on='ISBN')"
      ],
      "execution_count": 6,
      "outputs": []
    },
    {
      "cell_type": "code",
      "metadata": {
        "id": "7ba1w1P-MsCw",
        "outputId": "1192367a-3136-4396-a90c-71bf19d3b651",
        "colab": {
          "base_uri": "https://localhost:8080/",
          "height": 206
        }
      },
      "source": [
        "books.head()"
      ],
      "execution_count": 7,
      "outputs": [
        {
          "output_type": "execute_result",
          "data": {
            "text/html": [
              "<div>\n",
              "<style scoped>\n",
              "    .dataframe tbody tr th:only-of-type {\n",
              "        vertical-align: middle;\n",
              "    }\n",
              "\n",
              "    .dataframe tbody tr th {\n",
              "        vertical-align: top;\n",
              "    }\n",
              "\n",
              "    .dataframe thead th {\n",
              "        text-align: right;\n",
              "    }\n",
              "</style>\n",
              "<table border=\"1\" class=\"dataframe\">\n",
              "  <thead>\n",
              "    <tr style=\"text-align: right;\">\n",
              "      <th></th>\n",
              "      <th>User-ID</th>\n",
              "      <th>ISBN</th>\n",
              "      <th>Book-Rating</th>\n",
              "      <th>Book-Title</th>\n",
              "    </tr>\n",
              "  </thead>\n",
              "  <tbody>\n",
              "    <tr>\n",
              "      <th>0</th>\n",
              "      <td>276725</td>\n",
              "      <td>034545104X</td>\n",
              "      <td>0</td>\n",
              "      <td>Flesh Tones: A Novel</td>\n",
              "    </tr>\n",
              "    <tr>\n",
              "      <th>1</th>\n",
              "      <td>2313</td>\n",
              "      <td>034545104X</td>\n",
              "      <td>5</td>\n",
              "      <td>Flesh Tones: A Novel</td>\n",
              "    </tr>\n",
              "    <tr>\n",
              "      <th>2</th>\n",
              "      <td>6543</td>\n",
              "      <td>034545104X</td>\n",
              "      <td>0</td>\n",
              "      <td>Flesh Tones: A Novel</td>\n",
              "    </tr>\n",
              "    <tr>\n",
              "      <th>3</th>\n",
              "      <td>8680</td>\n",
              "      <td>034545104X</td>\n",
              "      <td>5</td>\n",
              "      <td>Flesh Tones: A Novel</td>\n",
              "    </tr>\n",
              "    <tr>\n",
              "      <th>4</th>\n",
              "      <td>10314</td>\n",
              "      <td>034545104X</td>\n",
              "      <td>9</td>\n",
              "      <td>Flesh Tones: A Novel</td>\n",
              "    </tr>\n",
              "  </tbody>\n",
              "</table>\n",
              "</div>"
            ],
            "text/plain": [
              "   User-ID        ISBN  Book-Rating            Book-Title\n",
              "0   276725  034545104X            0  Flesh Tones: A Novel\n",
              "1     2313  034545104X            5  Flesh Tones: A Novel\n",
              "2     6543  034545104X            0  Flesh Tones: A Novel\n",
              "3     8680  034545104X            5  Flesh Tones: A Novel\n",
              "4    10314  034545104X            9  Flesh Tones: A Novel"
            ]
          },
          "metadata": {
            "tags": []
          },
          "execution_count": 7
        }
      ]
    },
    {
      "cell_type": "code",
      "metadata": {
        "id": "pyIRDTkcMsC8",
        "outputId": "3a0be68e-99b8-4385-e8c1-8b618de4eb0d",
        "colab": {
          "base_uri": "https://localhost:8080/",
          "height": 37
        }
      },
      "source": [
        "def get_title(isbn, booknames=booknames):\n",
        "    return(booknames['Book-Title'][booknames['ISBN']==isbn].values[0])\n",
        "    \n",
        "get_title(\"0374157065\")"
      ],
      "execution_count": 8,
      "outputs": [
        {
          "output_type": "execute_result",
          "data": {
            "application/vnd.google.colaboratory.intrinsic+json": {
              "type": "string"
            },
            "text/plain": [
              "'Flu: The Story of the Great Influenza Pandemic of 1918 and the Search for the Virus That Caused It'"
            ]
          },
          "metadata": {
            "tags": []
          },
          "execution_count": 8
        }
      ]
    },
    {
      "cell_type": "markdown",
      "metadata": {
        "id": "q63Omu30MsDD"
      },
      "source": [
        "Now we have our list of users and ratings and our dictionary of titles and isbn numbers. Let's proceed with our collaborative learner.\n",
        "\n",
        "## Prepare the Data"
      ]
    },
    {
      "cell_type": "code",
      "metadata": {
        "id": "k7ZEYGWlMsDE",
        "outputId": "e2929c33-fd31-4055-acbd-de3556546a1b",
        "colab": {
          "base_uri": "https://localhost:8080/",
          "height": 363
        }
      },
      "source": [
        "dls = CollabDataLoaders.from_df(books, item_name='Book-Title', bs=64)\n",
        "dls.show_batch()"
      ],
      "execution_count": 9,
      "outputs": [
        {
          "output_type": "display_data",
          "data": {
            "text/html": [
              "<table border=\"1\" class=\"dataframe\">\n",
              "  <thead>\n",
              "    <tr style=\"text-align: right;\">\n",
              "      <th></th>\n",
              "      <th>User-ID</th>\n",
              "      <th>Book-Title</th>\n",
              "      <th>Book-Rating</th>\n",
              "    </tr>\n",
              "  </thead>\n",
              "  <tbody>\n",
              "    <tr>\n",
              "      <th>0</th>\n",
              "      <td>129503</td>\n",
              "      <td>El anatomista</td>\n",
              "      <td>9</td>\n",
              "    </tr>\n",
              "    <tr>\n",
              "      <th>1</th>\n",
              "      <td>25601</td>\n",
              "      <td>The Abacus/Book and Abacus</td>\n",
              "      <td>0</td>\n",
              "    </tr>\n",
              "    <tr>\n",
              "      <th>2</th>\n",
              "      <td>45971</td>\n",
              "      <td>How the Garcia Girls Lost Their Accents (Plume Contemporary Fiction)</td>\n",
              "      <td>10</td>\n",
              "    </tr>\n",
              "    <tr>\n",
              "      <th>3</th>\n",
              "      <td>102624</td>\n",
              "      <td>The Blue Suit: A Memoir of Crime</td>\n",
              "      <td>8</td>\n",
              "    </tr>\n",
              "    <tr>\n",
              "      <th>4</th>\n",
              "      <td>170264</td>\n",
              "      <td>The Weight of Water</td>\n",
              "      <td>0</td>\n",
              "    </tr>\n",
              "    <tr>\n",
              "      <th>5</th>\n",
              "      <td>392</td>\n",
              "      <td>Una casa en Irlanda</td>\n",
              "      <td>9</td>\n",
              "    </tr>\n",
              "    <tr>\n",
              "      <th>6</th>\n",
              "      <td>85526</td>\n",
              "      <td>The Northern Lights: The True Story of the Man Who Unlocked the Secrets of the Aurora Borealis</td>\n",
              "      <td>0</td>\n",
              "    </tr>\n",
              "    <tr>\n",
              "      <th>7</th>\n",
              "      <td>148258</td>\n",
              "      <td>The Right Word!: How to Say What You Really Mean (Right! Series)</td>\n",
              "      <td>10</td>\n",
              "    </tr>\n",
              "    <tr>\n",
              "      <th>8</th>\n",
              "      <td>235105</td>\n",
              "      <td>Office of Innocence</td>\n",
              "      <td>7</td>\n",
              "    </tr>\n",
              "    <tr>\n",
              "      <th>9</th>\n",
              "      <td>248496</td>\n",
              "      <td>LUCKY</td>\n",
              "      <td>9</td>\n",
              "    </tr>\n",
              "  </tbody>\n",
              "</table>"
            ],
            "text/plain": [
              "<IPython.core.display.HTML object>"
            ]
          },
          "metadata": {
            "tags": []
          }
        }
      ]
    },
    {
      "cell_type": "code",
      "metadata": {
        "id": "--Kyof9jMsDW",
        "outputId": "86066fa8-591b-4073-8848-0cc30bd1a623",
        "colab": {
          "base_uri": "https://localhost:8080/",
          "height": 34
        }
      },
      "source": [
        "books['Book-Rating'].max(), books['Book-Rating'].min()"
      ],
      "execution_count": 10,
      "outputs": [
        {
          "output_type": "execute_result",
          "data": {
            "text/plain": [
              "(10, 0)"
            ]
          },
          "metadata": {
            "tags": []
          },
          "execution_count": 10
        }
      ]
    },
    {
      "cell_type": "code",
      "metadata": {
        "id": "pEGcn0WWMsDf",
        "outputId": "6672e039-3de4-41d4-94b1-f3878ded5431",
        "colab": {
          "base_uri": "https://localhost:8080/",
          "height": 206
        }
      },
      "source": [
        "learn = collab_learner(dls, n_factors=50, y_range=(0,10.5))\n",
        "learn.fit_one_cycle(5,5e-3,wd=0.1)"
      ],
      "execution_count": 11,
      "outputs": [
        {
          "output_type": "display_data",
          "data": {
            "text/html": [
              "<table border=\"1\" class=\"dataframe\">\n",
              "  <thead>\n",
              "    <tr style=\"text-align: left;\">\n",
              "      <th>epoch</th>\n",
              "      <th>train_loss</th>\n",
              "      <th>valid_loss</th>\n",
              "      <th>time</th>\n",
              "    </tr>\n",
              "  </thead>\n",
              "  <tbody>\n",
              "    <tr>\n",
              "      <td>0</td>\n",
              "      <td>13.423079</td>\n",
              "      <td>13.638583</td>\n",
              "      <td>03:54</td>\n",
              "    </tr>\n",
              "    <tr>\n",
              "      <td>1</td>\n",
              "      <td>13.661947</td>\n",
              "      <td>13.605501</td>\n",
              "      <td>03:53</td>\n",
              "    </tr>\n",
              "    <tr>\n",
              "      <td>2</td>\n",
              "      <td>13.296583</td>\n",
              "      <td>13.434108</td>\n",
              "      <td>03:53</td>\n",
              "    </tr>\n",
              "    <tr>\n",
              "      <td>3</td>\n",
              "      <td>12.895421</td>\n",
              "      <td>13.227719</td>\n",
              "      <td>03:53</td>\n",
              "    </tr>\n",
              "    <tr>\n",
              "      <td>4</td>\n",
              "      <td>12.179284</td>\n",
              "      <td>13.239008</td>\n",
              "      <td>03:53</td>\n",
              "    </tr>\n",
              "  </tbody>\n",
              "</table>"
            ],
            "text/plain": [
              "<IPython.core.display.HTML object>"
            ]
          },
          "metadata": {
            "tags": []
          }
        }
      ]
    },
    {
      "cell_type": "markdown",
      "metadata": {
        "id": "sNsRrzJdMsDm"
      },
      "source": [
        "### QUESTIONS\n",
        "- How does it know which is the user and which is the item? Is there a meaningful difference?\n",
        "- Why does this one take so much longer than the movies dataset? (I haven't actually checked the length).\n",
        "- It doesn't seem to matter that the User-ID isn't any kind of index. Would we need to create an index to redo this in the same manual way as we did with the movie dataset? Or would `embedding` at least take care of that?"
      ]
    },
    {
      "cell_type": "code",
      "metadata": {
        "id": "gpWtLLuUMsDo",
        "outputId": "ab1356e6-29de-439f-f54a-25f42c69a090",
        "colab": {
          "base_uri": "https://localhost:8080/",
          "height": 104
        }
      },
      "source": [
        "book_bias = learn.model.i_bias.weight.squeeze()\n",
        "idxs = book_bias.argsort(descending=True)[:5]\n",
        "[dls.classes['Book-Title'][i] for i in idxs]"
      ],
      "execution_count": 14,
      "outputs": [
        {
          "output_type": "execute_result",
          "data": {
            "text/plain": [
              "['Harry Potter and the Prisoner of Azkaban (Book 3)',\n",
              " 'Free',\n",
              " 'Harry Potter and the Goblet of Fire (Book 4)',\n",
              " \"Ender's Game (Ender Wiggins Saga (Paperback))\",\n",
              " 'Harry Potter and the Order of the Phoenix (Book 5)']"
            ]
          },
          "metadata": {
            "tags": []
          },
          "execution_count": 14
        }
      ]
    },
    {
      "cell_type": "code",
      "metadata": {
        "id": "UquUsLFYRf-v",
        "outputId": "c9a69437-edee-4741-bf0a-491c03e9a42b",
        "colab": {
          "base_uri": "https://localhost:8080/",
          "height": 206
        }
      },
      "source": [
        "learn = collab_learner(dls, n_factors=50, y_range=(0,10.5))\n",
        "learn.fit_one_cycle(5)"
      ],
      "execution_count": 15,
      "outputs": [
        {
          "output_type": "display_data",
          "data": {
            "text/html": [
              "<table border=\"1\" class=\"dataframe\">\n",
              "  <thead>\n",
              "    <tr style=\"text-align: left;\">\n",
              "      <th>epoch</th>\n",
              "      <th>train_loss</th>\n",
              "      <th>valid_loss</th>\n",
              "      <th>time</th>\n",
              "    </tr>\n",
              "  </thead>\n",
              "  <tbody>\n",
              "    <tr>\n",
              "      <td>0</td>\n",
              "      <td>14.531243</td>\n",
              "      <td>14.581391</td>\n",
              "      <td>03:55</td>\n",
              "    </tr>\n",
              "    <tr>\n",
              "      <td>1</td>\n",
              "      <td>12.123333</td>\n",
              "      <td>12.555926</td>\n",
              "      <td>03:56</td>\n",
              "    </tr>\n",
              "    <tr>\n",
              "      <td>2</td>\n",
              "      <td>11.019968</td>\n",
              "      <td>12.492550</td>\n",
              "      <td>03:57</td>\n",
              "    </tr>\n",
              "    <tr>\n",
              "      <td>3</td>\n",
              "      <td>9.853679</td>\n",
              "      <td>12.542894</td>\n",
              "      <td>03:57</td>\n",
              "    </tr>\n",
              "    <tr>\n",
              "      <td>4</td>\n",
              "      <td>9.234361</td>\n",
              "      <td>12.552869</td>\n",
              "      <td>03:56</td>\n",
              "    </tr>\n",
              "  </tbody>\n",
              "</table>"
            ],
            "text/plain": [
              "<IPython.core.display.HTML object>"
            ]
          },
          "metadata": {
            "tags": []
          }
        }
      ]
    },
    {
      "cell_type": "markdown",
      "metadata": {
        "id": "02OZg7_uWEPX"
      },
      "source": [
        "Without weight decay, we have some evidence of overfitting. The training loss is considerably better than we saw before but the validation loss started increasing again.\n",
        "\n",
        "I'm very curious about hyperparameter tuning in these situations."
      ]
    },
    {
      "cell_type": "code",
      "metadata": {
        "id": "bvO0yKuQR5Mi",
        "outputId": "2c18fd60-45f4-4906-9f57-b012a246dc0d",
        "colab": {
          "base_uri": "https://localhost:8080/",
          "height": 104
        }
      },
      "source": [
        "book_bias = learn.model.i_bias.weight.squeeze()\n",
        "idxs = book_bias.argsort(descending=True)[:5]\n",
        "[dls.classes['Book-Title'][i] for i in idxs]"
      ],
      "execution_count": 16,
      "outputs": [
        {
          "output_type": "execute_result",
          "data": {
            "text/plain": [
              "['Free',\n",
              " 'Harry Potter and the Prisoner of Azkaban (Book 3)',\n",
              " 'Harry Potter and the Goblet of Fire (Book 4)',\n",
              " \"Ender's Game (Ender Wiggins Saga (Paperback))\",\n",
              " \"Harry Potter and the Sorcerer's Stone (Book 1)\"]"
            ]
          },
          "metadata": {
            "tags": []
          },
          "execution_count": 16
        }
      ]
    },
    {
      "cell_type": "code",
      "metadata": {
        "id": "qS8N-GJ4Wc_E",
        "outputId": "953bcf09-e693-4ce3-daf9-1b3196091aa7",
        "colab": {
          "base_uri": "https://localhost:8080/",
          "height": 143
        }
      },
      "source": [
        "booknames2 = pd.read_csv(path.parent / 'BX-Books.csv', sep=';', encoding = \"ISO-8859-1\",\n",
        "                       quotechar='\"', escapechar='\\\\', usecols=(0,1,2, 3, 4))\n",
        "booknames2[booknames2['Book-Title']=='Free']"
      ],
      "execution_count": 19,
      "outputs": [
        {
          "output_type": "execute_result",
          "data": {
            "text/html": [
              "<div>\n",
              "<style scoped>\n",
              "    .dataframe tbody tr th:only-of-type {\n",
              "        vertical-align: middle;\n",
              "    }\n",
              "\n",
              "    .dataframe tbody tr th {\n",
              "        vertical-align: top;\n",
              "    }\n",
              "\n",
              "    .dataframe thead th {\n",
              "        text-align: right;\n",
              "    }\n",
              "</style>\n",
              "<table border=\"1\" class=\"dataframe\">\n",
              "  <thead>\n",
              "    <tr style=\"text-align: right;\">\n",
              "      <th></th>\n",
              "      <th>ISBN</th>\n",
              "      <th>Book-Title</th>\n",
              "      <th>Book-Author</th>\n",
              "      <th>Year-Of-Publication</th>\n",
              "      <th>Publisher</th>\n",
              "    </tr>\n",
              "  </thead>\n",
              "  <tbody>\n",
              "    <tr>\n",
              "      <th>3028</th>\n",
              "      <td>1844262553</td>\n",
              "      <td>Free</td>\n",
              "      <td>Paul Vincent</td>\n",
              "      <td>2003</td>\n",
              "      <td>Upfront Publishing</td>\n",
              "    </tr>\n",
              "    <tr>\n",
              "      <th>6204</th>\n",
              "      <td>0385468490</td>\n",
              "      <td>Free</td>\n",
              "      <td>Todd Komarnicki</td>\n",
              "      <td>1993</td>\n",
              "      <td>Bantam Dell Pub Group</td>\n",
              "    </tr>\n",
              "    <tr>\n",
              "      <th>8224</th>\n",
              "      <td>0951426133</td>\n",
              "      <td>Free</td>\n",
              "      <td>M. Gilliland</td>\n",
              "      <td>1990</td>\n",
              "      <td>Attack International</td>\n",
              "    </tr>\n",
              "  </tbody>\n",
              "</table>\n",
              "</div>"
            ],
            "text/plain": [
              "            ISBN Book-Title  ... Year-Of-Publication              Publisher\n",
              "3028  1844262553       Free  ...                2003     Upfront Publishing\n",
              "6204  0385468490       Free  ...                1993  Bantam Dell Pub Group\n",
              "8224  0951426133       Free  ...                1990   Attack International\n",
              "\n",
              "[3 rows x 5 columns]"
            ]
          },
          "metadata": {
            "tags": []
          },
          "execution_count": 19
        }
      ]
    },
    {
      "cell_type": "markdown",
      "metadata": {
        "id": "JUTaFAbKXSnT"
      },
      "source": [
        "I remain confused by \"Free\" and wonder if there's something about people looking for \"free books\" or something."
      ]
    },
    {
      "cell_type": "code",
      "metadata": {
        "id": "Ah2Nqsy4WuMd"
      },
      "source": [
        ""
      ],
      "execution_count": null,
      "outputs": []
    }
  ]
}