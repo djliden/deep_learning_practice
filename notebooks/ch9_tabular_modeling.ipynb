{
 "cells": [
  {
   "cell_type": "markdown",
   "metadata": {},
   "source": [
    "# Chapter 9: Tabular Modeling Deep Dive\n",
    "Starting page 277\n",
    "\n",
    "## Categorical Embeddings\n",
    "- An embedding layer is \"exactly the same as placing an ordinary linear layer after every one-hot encoded input layer.\""
   ]
  }
 ],
 "metadata": {
  "kernelspec": {
   "display_name": "fastai",
   "language": "python",
   "name": "fastai"
  },
  "language_info": {
   "codemirror_mode": {
    "name": "ipython",
    "version": 3
   },
   "file_extension": ".py",
   "mimetype": "text/x-python",
   "name": "python",
   "nbconvert_exporter": "python",
   "pygments_lexer": "ipython3",
   "version": "3.8.6"
  }
 },
 "nbformat": 4,
 "nbformat_minor": 4
}
